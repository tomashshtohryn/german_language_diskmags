{
 "nbformat": 4,
 "nbformat_minor": 0,
 "metadata": {
  "colab": {
   "provenance": [],
   "gpuType": "T4"
  },
  "kernelspec": {
   "name": "python3",
   "language": "python",
   "display_name": "Python 3 (ipykernel)"
  },
  "language_info": {
   "name": "python"
  },
  "accelerator": "GPU"
 },
 "cells": [
  {
   "cell_type": "markdown",
   "source": [
    "## Imports"
   ],
   "metadata": {
    "collapsed": false
   }
  },
  {
   "cell_type": "code",
   "source": [
    "from collections import defaultdict\n",
    "import pandas as pd\n",
    "import re"
   ],
   "metadata": {
    "collapsed": false,
    "ExecuteTime": {
     "end_time": "2024-05-12T10:52:56.934253500Z",
     "start_time": "2024-05-12T10:52:54.054541900Z"
    }
   },
   "outputs": [],
   "execution_count": 1
  },
  {
   "cell_type": "markdown",
   "source": [
    "## 1. Load and process data"
   ],
   "metadata": {
    "collapsed": false
   }
  },
  {
   "cell_type": "markdown",
   "source": [
    "**Steps:**\n",
    "1. Load `.txt` file as dataframe\n",
    "2. Apply regex pattern on the `word`-column\n",
    "3. Filter dataframe to keep values which contain 1 or more trigrams\n",
    "3. Sort values based on `frequency`-column"
   ],
   "metadata": {
    "collapsed": false
   }
  },
  {
   "metadata": {},
   "cell_type": "markdown",
   "source": [
    "# 2. Get trigrams of umlauts and eszett characters"
   ]
  },
  {
   "cell_type": "code",
   "source": [
    "df = pd.read_csv('deu_news_2022_1M-words.txt', delimiter='\\t',\n",
    "                 usecols=[1,2], skiprows=48, header=None,\n",
    "                 index_col=False, names=['word', 'frequency'], encoding='utf-8')"
   ],
   "metadata": {
    "id": "GULYUUTMXudA",
    "ExecuteTime": {
     "end_time": "2024-05-12T10:53:26.964324300Z",
     "start_time": "2024-05-12T10:53:26.346588300Z"
    }
   },
   "outputs": [],
   "execution_count": 2
  },
  {
   "cell_type": "code",
   "source": [
    "pattern_umlaut = re.compile(r'([a-zA-ZäöüÄÖÜ][äöüÄÖÜß][a-zA-ZäöüÄÖÜß]|[äöüÄÖÜß][a-zA-ZäöüÄÖÜß]{2})')\n",
    "df['trigram_umlaut'] = df['word'].apply(lambda x: pattern_umlaut.findall(x) if isinstance(x, str) else [])"
   ],
   "metadata": {
    "collapsed": false,
    "ExecuteTime": {
     "end_time": "2024-05-12T10:53:33.090417100Z",
     "start_time": "2024-05-12T10:53:28.868553300Z"
    }
   },
   "outputs": [],
   "execution_count": 3
  },
  {
   "cell_type": "code",
   "source": [
    "df.head()"
   ],
   "metadata": {
    "collapsed": false,
    "ExecuteTime": {
     "end_time": "2024-05-12T10:53:33.144640200Z",
     "start_time": "2024-05-12T10:53:33.033236900Z"
    }
   },
   "outputs": [
    {
     "data": {
      "text/plain": "          word  frequency trigram_umlaut\n0       beiden       8131             []\n1       könnte       8103          [kön]\n2   nicht mehr       8097             []\n3  Unternehmen       8047             []\n4         laut       8014             []",
      "text/html": "<div>\n<style scoped>\n    .dataframe tbody tr th:only-of-type {\n        vertical-align: middle;\n    }\n\n    .dataframe tbody tr th {\n        vertical-align: top;\n    }\n\n    .dataframe thead th {\n        text-align: right;\n    }\n</style>\n<table border=\"1\" class=\"dataframe\">\n  <thead>\n    <tr style=\"text-align: right;\">\n      <th></th>\n      <th>word</th>\n      <th>frequency</th>\n      <th>trigram_umlaut</th>\n    </tr>\n  </thead>\n  <tbody>\n    <tr>\n      <th>0</th>\n      <td>beiden</td>\n      <td>8131</td>\n      <td>[]</td>\n    </tr>\n    <tr>\n      <th>1</th>\n      <td>könnte</td>\n      <td>8103</td>\n      <td>[kön]</td>\n    </tr>\n    <tr>\n      <th>2</th>\n      <td>nicht mehr</td>\n      <td>8097</td>\n      <td>[]</td>\n    </tr>\n    <tr>\n      <th>3</th>\n      <td>Unternehmen</td>\n      <td>8047</td>\n      <td>[]</td>\n    </tr>\n    <tr>\n      <th>4</th>\n      <td>laut</td>\n      <td>8014</td>\n      <td>[]</td>\n    </tr>\n  </tbody>\n</table>\n</div>"
     },
     "execution_count": 4,
     "metadata": {},
     "output_type": "execute_result"
    }
   ],
   "execution_count": 4
  },
  {
   "cell_type": "code",
   "source": [
    "df_umlauts = df[df['trigram_umlaut'].apply(lambda x: x != [])]\n",
    "df_umlauts = df_umlauts.sort_values(by='frequency', ignore_index=True, ascending=False)"
   ],
   "metadata": {
    "id": "TJ8X1yfanBf_",
    "ExecuteTime": {
     "end_time": "2024-05-12T10:53:33.478377Z",
     "start_time": "2024-05-12T10:53:33.111514100Z"
    }
   },
   "outputs": [],
   "execution_count": 5
  },
  {
   "cell_type": "markdown",
   "source": [
    "**Steps:**\n",
    "1. Create an empty `defaultdict(int)`\n",
    "2. Iterate over the dataframe rows and add values to dictionary\n",
    "3. Add frequency values as values to a dictionary\n",
    "4. Convert it to the dataframe with 2 columns `['trigram', 'frequency']`\n",
    "5. Save dataframe as csv file"
   ],
   "metadata": {
    "collapsed": false
   }
  },
  {
   "cell_type": "code",
   "source": [
    "trigrams_umlauts_dict = defaultdict(int)"
   ],
   "metadata": {
    "collapsed": false,
    "ExecuteTime": {
     "end_time": "2024-05-12T10:53:33.479888400Z",
     "start_time": "2024-05-12T10:53:33.463219100Z"
    }
   },
   "outputs": [],
   "execution_count": 6
  },
  {
   "cell_type": "code",
   "source": [
    "for index, row in df_umlauts.iterrows():\n",
    "    trigrams = row['trigram_umlaut']\n",
    "    frequency = row['frequency']\n",
    "    for trigram in trigrams:\n",
    "        trigrams_umlauts_dict[trigram] += frequency"
   ],
   "metadata": {
    "collapsed": false,
    "ExecuteTime": {
     "end_time": "2024-05-12T10:53:57.868299300Z",
     "start_time": "2024-05-12T10:53:48.409358300Z"
    }
   },
   "outputs": [],
   "execution_count": 7
  },
  {
   "cell_type": "code",
   "source": [
    "df_trigrams_umlauts = pd.DataFrame(trigrams_umlauts_dict.items(), columns=['trigram', 'frequency'])\n",
    "df_trigrams_umlauts = df_trigrams_umlauts.sort_values(by='frequency', ascending=False)"
   ],
   "metadata": {
    "collapsed": false,
    "ExecuteTime": {
     "end_time": "2024-05-12T10:53:57.891853700Z",
     "start_time": "2024-05-12T10:53:57.877797100Z"
    }
   },
   "outputs": [],
   "execution_count": 8
  },
  {
   "cell_type": "code",
   "outputs": [],
   "source": [
    "umlauts_total = sum(df_trigrams_umlauts['frequency'].tolist())\n",
    "df_trigrams_umlauts['percentage'] = df_trigrams_umlauts['frequency'].apply(lambda x: x / umlauts_total)"
   ],
   "metadata": {
    "collapsed": false,
    "ExecuteTime": {
     "end_time": "2024-05-12T10:55:07.311532500Z",
     "start_time": "2024-05-12T10:55:07.285975500Z"
    }
   },
   "execution_count": 9
  },
  {
   "cell_type": "code",
   "source": [
    "df_trigrams_umlauts.to_csv('umlaut_trigrams.csv', index=False, encoding='utf-8')"
   ],
   "metadata": {
    "collapsed": false,
    "ExecuteTime": {
     "end_time": "2024-05-12T10:55:08.476596Z",
     "start_time": "2024-05-12T10:55:08.426753600Z"
    }
   },
   "outputs": [],
   "execution_count": 10
  },
  {
   "metadata": {},
   "cell_type": "markdown",
   "source": [
    "# 3. Get trigrams of word beginnings"
   ]
  },
  {
   "metadata": {
    "ExecuteTime": {
     "end_time": "2024-05-12T10:55:40.321353200Z",
     "start_time": "2024-05-12T10:55:39.338166100Z"
    }
   },
   "cell_type": "code",
   "source": [
    "pattern_beginning = re.compile(r'\\b([\\wäöüÄÖÜß]{3})')\n",
    "df['trigram_beginning'] = df['word'].apply(lambda x: pattern_beginning.findall(x) if isinstance(x, str) else [])"
   ],
   "outputs": [],
   "execution_count": 11
  },
  {
   "metadata": {
    "ExecuteTime": {
     "end_time": "2024-05-12T10:55:40.976254800Z",
     "start_time": "2024-05-12T10:55:40.940582600Z"
    }
   },
   "cell_type": "code",
   "source": [
    "df.head()"
   ],
   "outputs": [
    {
     "data": {
      "text/plain": "          word  frequency trigram_umlaut trigram_beginning\n0       beiden       8131             []             [bei]\n1       könnte       8103          [kön]             [kön]\n2   nicht mehr       8097             []        [nic, meh]\n3  Unternehmen       8047             []             [Unt]\n4         laut       8014             []             [lau]",
      "text/html": "<div>\n<style scoped>\n    .dataframe tbody tr th:only-of-type {\n        vertical-align: middle;\n    }\n\n    .dataframe tbody tr th {\n        vertical-align: top;\n    }\n\n    .dataframe thead th {\n        text-align: right;\n    }\n</style>\n<table border=\"1\" class=\"dataframe\">\n  <thead>\n    <tr style=\"text-align: right;\">\n      <th></th>\n      <th>word</th>\n      <th>frequency</th>\n      <th>trigram_umlaut</th>\n      <th>trigram_beginning</th>\n    </tr>\n  </thead>\n  <tbody>\n    <tr>\n      <th>0</th>\n      <td>beiden</td>\n      <td>8131</td>\n      <td>[]</td>\n      <td>[bei]</td>\n    </tr>\n    <tr>\n      <th>1</th>\n      <td>könnte</td>\n      <td>8103</td>\n      <td>[kön]</td>\n      <td>[kön]</td>\n    </tr>\n    <tr>\n      <th>2</th>\n      <td>nicht mehr</td>\n      <td>8097</td>\n      <td>[]</td>\n      <td>[nic, meh]</td>\n    </tr>\n    <tr>\n      <th>3</th>\n      <td>Unternehmen</td>\n      <td>8047</td>\n      <td>[]</td>\n      <td>[Unt]</td>\n    </tr>\n    <tr>\n      <th>4</th>\n      <td>laut</td>\n      <td>8014</td>\n      <td>[]</td>\n      <td>[lau]</td>\n    </tr>\n  </tbody>\n</table>\n</div>"
     },
     "execution_count": 12,
     "metadata": {},
     "output_type": "execute_result"
    }
   ],
   "execution_count": 12
  },
  {
   "metadata": {
    "ExecuteTime": {
     "end_time": "2024-05-12T10:55:44.035733200Z",
     "start_time": "2024-05-12T10:55:43.457471200Z"
    }
   },
   "cell_type": "code",
   "source": [
    "df_beginning = df[df['trigram_beginning'].apply(lambda x: x != [])]\n",
    "df_beginning = df_beginning.sort_values(by='frequency', ignore_index=True, ascending=False)"
   ],
   "outputs": [],
   "execution_count": 13
  },
  {
   "metadata": {
    "ExecuteTime": {
     "end_time": "2024-05-12T10:55:44.605715600Z",
     "start_time": "2024-05-12T10:55:44.579039400Z"
    }
   },
   "cell_type": "code",
   "source": [
    "trigrams_beginning_dict = defaultdict(int)"
   ],
   "outputs": [],
   "execution_count": 14
  },
  {
   "metadata": {
    "ExecuteTime": {
     "end_time": "2024-05-12T10:56:47.506108Z",
     "start_time": "2024-05-12T10:55:45.583697600Z"
    }
   },
   "cell_type": "code",
   "source": [
    "for index, row in df_beginning.iterrows():\n",
    "    trigrams = row['trigram_beginning']\n",
    "    frequency = row['frequency']\n",
    "    for trigram in trigrams:\n",
    "        trigrams_beginning_dict[trigram] += frequency"
   ],
   "outputs": [],
   "execution_count": 15
  },
  {
   "metadata": {
    "ExecuteTime": {
     "end_time": "2024-05-12T10:56:47.542805100Z",
     "start_time": "2024-05-12T10:56:47.509118600Z"
    }
   },
   "cell_type": "code",
   "source": [
    "df_trigrams_beginning = pd.DataFrame(trigrams_beginning_dict.items(), columns=['trigram', 'frequency'])\n",
    "df_trigrams_beginning = df_trigrams_beginning.sort_values(by='frequency', ascending=False)"
   ],
   "outputs": [],
   "execution_count": 16
  },
  {
   "cell_type": "code",
   "outputs": [],
   "source": [
    "beginnings_total = sum(df_trigrams_beginning['frequency'].tolist())\n",
    "df_trigrams_beginning['percentage'] = df_trigrams_beginning['frequency'].apply(lambda x: x / beginnings_total)"
   ],
   "metadata": {
    "collapsed": false,
    "ExecuteTime": {
     "end_time": "2024-05-12T10:56:51.693233100Z",
     "start_time": "2024-05-12T10:56:51.671174100Z"
    }
   },
   "execution_count": 17
  },
  {
   "metadata": {
    "ExecuteTime": {
     "end_time": "2024-05-12T10:56:56.653185700Z",
     "start_time": "2024-05-12T10:56:56.559349300Z"
    }
   },
   "cell_type": "code",
   "source": [
    "df_trigrams_beginning.to_csv('beginning_trigrams.csv', index=False, encoding='utf-8')"
   ],
   "outputs": [],
   "execution_count": 18
  },
  {
   "cell_type": "code",
   "outputs": [],
   "source": [],
   "metadata": {
    "collapsed": false
   }
  }
 ]
}
