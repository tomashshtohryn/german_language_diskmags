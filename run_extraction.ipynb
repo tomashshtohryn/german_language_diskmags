{
 "cells": [
  {
   "metadata": {
    "ExecuteTime": {
     "end_time": "2024-06-13T16:56:27.716921Z",
     "start_time": "2024-06-13T16:56:26.748622Z"
    }
   },
   "cell_type": "code",
   "source": [
    "import os\n",
    "import glob\n",
    "from c64_diskmag_converter import Corpus, DiskmagC64"
   ],
   "id": "5785a9884335e537",
   "outputs": [],
   "execution_count": 1
  },
  {
   "metadata": {
    "ExecuteTime": {
     "end_time": "2024-06-13T16:56:27.782456Z",
     "start_time": "2024-06-13T16:56:27.717925Z"
    }
   },
   "cell_type": "code",
   "source": "corpus = Corpus('deutschsprachige Diskettenmagazine', 'data/disk_images_thesis')",
   "id": "649fba72155c836",
   "outputs": [],
   "execution_count": 2
  },
  {
   "metadata": {
    "ExecuteTime": {
     "end_time": "2024-06-13T16:56:27.844011Z",
     "start_time": "2024-06-13T16:56:27.783435Z"
    }
   },
   "cell_type": "code",
   "source": "len(corpus.get_files())",
   "id": "ac6a6a3802d6f911",
   "outputs": [
    {
     "data": {
      "text/plain": [
       "1262"
      ]
     },
     "execution_count": 3,
     "metadata": {},
     "output_type": "execute_result"
    }
   ],
   "execution_count": 3
  },
  {
   "metadata": {
    "ExecuteTime": {
     "end_time": "2024-06-13T17:01:18.176311Z",
     "start_time": "2024-06-13T16:56:27.845011Z"
    }
   },
   "cell_type": "code",
   "source": "corpus.convert_files_to_tei(char_threshold=0.4)",
   "id": "709af6e9b800d0f5",
   "outputs": [
    {
     "name": "stderr",
     "output_type": "stream",
     "text": [
      "Converting disk images to TEI:  11%|█         | 133/1262 [00:34<02:30,  7.48disk_images/s]"
     ]
    },
    {
     "name": "stdout",
     "output_type": "stream",
     "text": [
      "All strings must be XML compatible: Unicode or ASCII, no NULL bytes or control characters data\\disk_images_thesis\\Digital News\\Digital News No.1\\digital_news_no_1.xml\n"
     ]
    },
    {
     "name": "stderr",
     "output_type": "stream",
     "text": [
      "Converting disk images to TEI:  18%|█▊        | 228/1262 [00:50<01:52,  9.15disk_images/s]"
     ]
    },
    {
     "name": "stdout",
     "output_type": "stream",
     "text": [
      "All strings must be XML compatible: Unicode or ASCII, no NULL bytes or control characters data\\disk_images_thesis\\Digital Talk\\Digital Talk No.55\\digital_talk_no_55_1.xml\n"
     ]
    },
    {
     "name": "stderr",
     "output_type": "stream",
     "text": [
      "Converting disk images to TEI:  53%|█████▎    | 665/1262 [03:13<02:43,  3.65disk_images/s]"
     ]
    },
    {
     "name": "stdout",
     "output_type": "stream",
     "text": [
      "All strings must be XML compatible: Unicode or ASCII, no NULL bytes or control characters data\\disk_images_thesis\\Publication\\Publication No.24\\publication_no_24.xml\n"
     ]
    },
    {
     "name": "stderr",
     "output_type": "stream",
     "text": [
      "Converting disk images to TEI:  54%|█████▍    | 679/1262 [03:15<00:56, 10.39disk_images/s]"
     ]
    },
    {
     "name": "stdout",
     "output_type": "stream",
     "text": [
      "All strings must be XML compatible: Unicode or ASCII, no NULL bytes or control characters data\\disk_images_thesis\\Publication\\Publication No.35\\publication_no_35.xml\n"
     ]
    },
    {
     "name": "stderr",
     "output_type": "stream",
     "text": [
      "Converting disk images to TEI: 100%|██████████| 1262/1262 [04:50<00:00,  4.35disk_images/s]\n"
     ]
    }
   ],
   "execution_count": 4
  },
  {
   "metadata": {
    "ExecuteTime": {
     "end_time": "2024-06-13T17:01:18.247094Z",
     "start_time": "2024-06-13T17:01:18.177938Z"
    }
   },
   "cell_type": "code",
   "source": "len(glob.glob(os.path.join('data/disk_images_thesis', '**', '*.xml'), recursive=True))",
   "id": "180182c4768561ae",
   "outputs": [
    {
     "data": {
      "text/plain": [
       "1245"
      ]
     },
     "execution_count": 5,
     "metadata": {},
     "output_type": "execute_result"
    }
   ],
   "execution_count": 5
  },
  {
   "metadata": {
    "ExecuteTime": {
     "end_time": "2024-06-13T17:01:18.347205Z",
     "start_time": "2024-06-13T17:01:18.247869Z"
    }
   },
   "cell_type": "code",
   "source": "files = glob.glob(os.path.join('data/disk_images_thesis', '**'), recursive=True)",
   "id": "293a1371c16738e6",
   "outputs": [],
   "execution_count": 6
  },
  {
   "metadata": {
    "ExecuteTime": {
     "end_time": "2024-06-13T17:04:38.951819Z",
     "start_time": "2024-06-13T17:04:38.893950Z"
    }
   },
   "cell_type": "code",
   "source": "non_xml_non_d64_files = [file for file in files if os.path.isfile(file) and not (file.endswith('.xml') or file.endswith('.d64'))]",
   "id": "fc6a1b43e709d515",
   "outputs": [],
   "execution_count": 9
  },
  {
   "metadata": {
    "ExecuteTime": {
     "end_time": "2024-06-13T17:04:39.907137Z",
     "start_time": "2024-06-13T17:04:39.896009Z"
    }
   },
   "cell_type": "code",
   "source": "non_xml_non_d64_files",
   "id": "203ae111438d7112",
   "outputs": [
    {
     "data": {
      "text/plain": [
       "['data/disk_images_thesis\\\\Digital Talk\\\\Digital Talk No.2\\\\digitaltalk02.lzh',\n",
       " 'data/disk_images_thesis\\\\Digital Talk\\\\Digital Talk No.3\\\\digitaltalk03.lzh',\n",
       " 'data/disk_images_thesis\\\\Digital Talk\\\\Digital Talk No.47\\\\dt',\n",
       " 'data/disk_images_thesis\\\\Digital Talk\\\\Digital Talk No.48\\\\dt',\n",
       " 'data/disk_images_thesis\\\\Digital Talk\\\\Digital Talk No.52\\\\dt',\n",
       " 'data/disk_images_thesis\\\\Digital Talk\\\\Digital Talk No.53\\\\dt',\n",
       " 'data/disk_images_thesis\\\\Digital Talk\\\\Digital Talk No.56\\\\dt',\n",
       " 'data/disk_images_thesis\\\\Digital Talk\\\\Digital Talk No.59\\\\dt',\n",
       " 'data/disk_images_thesis\\\\Digital Talk\\\\Digital Talk No.61\\\\dt',\n",
       " 'data/disk_images_thesis\\\\Digital Talk\\\\Digital Talk No.62\\\\dt',\n",
       " 'data/disk_images_thesis\\\\Digital Talk\\\\Digital Talk No.66\\\\dt',\n",
       " 'data/disk_images_thesis\\\\Digital Talk\\\\Digital Talk No.68\\\\dt',\n",
       " 'data/disk_images_thesis\\\\Digital Talk\\\\Digital Talk No.69\\\\dt',\n",
       " 'data/disk_images_thesis\\\\Digital Talk\\\\Digital Talk No.74\\\\dt',\n",
       " 'data/disk_images_thesis\\\\Digital Talk\\\\Digital Talk No.78\\\\dt',\n",
       " 'data/disk_images_thesis\\\\Digital Talk\\\\Digital Talk No.80\\\\dt',\n",
       " 'data/disk_images_thesis\\\\Digital Talk\\\\Digital Talk No.81\\\\dt',\n",
       " 'data/disk_images_thesis\\\\Digital Talk\\\\Digital Talk No.82\\\\dt',\n",
       " 'data/disk_images_thesis\\\\Digital Talk\\\\Digital Talk No.83\\\\dt',\n",
       " 'data/disk_images_thesis\\\\Digital Talk\\\\Digital Talk No.84\\\\dt',\n",
       " 'data/disk_images_thesis\\\\Digital Talk\\\\Digital Talk No.85\\\\dt',\n",
       " 'data/disk_images_thesis\\\\Digital Talk\\\\Digital Talk No.87\\\\dt',\n",
       " 'data/disk_images_thesis\\\\Digital Talk\\\\Digital Talk No.88\\\\dt',\n",
       " 'data/disk_images_thesis\\\\Digital Talk\\\\Digital Talk No.89\\\\dt',\n",
       " 'data/disk_images_thesis\\\\Digital Talk\\\\Digital Talk No.90\\\\dt',\n",
       " 'data/disk_images_thesis\\\\Dynamic News\\\\Dynamic News No.1\\\\dynamic news',\n",
       " 'data/disk_images_thesis\\\\Mini-Mag\\\\Mini-Mag No.6\\\\minimag',\n",
       " 'data/disk_images_thesis\\\\Mini-Mag\\\\Mini-Mag No.7\\\\mini mag',\n",
       " 'data/disk_images_thesis\\\\Mini-Mag\\\\Mini-Mag No.8\\\\mini mag',\n",
       " 'data/disk_images_thesis\\\\Publication\\\\Publication No.50\\\\pbc50%20[civitas].zip',\n",
       " 'data/disk_images_thesis\\\\Publication\\\\Publication No.52\\\\pbc52%20[civitas].zip']"
      ]
     },
     "execution_count": 10,
     "metadata": {},
     "output_type": "execute_result"
    }
   ],
   "execution_count": 10
  },
  {
   "metadata": {},
   "cell_type": "code",
   "outputs": [],
   "execution_count": null,
   "source": "",
   "id": "1cf05a2169d5e8fc"
  }
 ],
 "metadata": {
  "kernelspec": {
   "display_name": "Python 3",
   "language": "python",
   "name": "python3"
  },
  "language_info": {
   "codemirror_mode": {
    "name": "ipython",
    "version": 2
   },
   "file_extension": ".py",
   "mimetype": "text/x-python",
   "name": "python",
   "nbconvert_exporter": "python",
   "pygments_lexer": "ipython2",
   "version": "2.7.6"
  }
 },
 "nbformat": 4,
 "nbformat_minor": 5
}
