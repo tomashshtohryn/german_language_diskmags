{
 "cells": [
  {
   "metadata": {
    "ExecuteTime": {
     "end_time": "2024-06-03T16:35:57.271624Z",
     "start_time": "2024-06-03T16:35:55.698336Z"
    }
   },
   "cell_type": "code",
   "source": [
    "import os\n",
    "import glob\n",
    "from c64_diskmag_converter import Corpus, DiskmagC64"
   ],
   "id": "5785a9884335e537",
   "outputs": [],
   "execution_count": 1
  },
  {
   "metadata": {
    "ExecuteTime": {
     "end_time": "2024-06-03T16:35:57.370959Z",
     "start_time": "2024-06-03T16:35:57.277125Z"
    }
   },
   "cell_type": "code",
   "source": "corpus = Corpus('deutschsprachige Diskettenmagazine', 'data/disk_images_thesis')",
   "id": "649fba72155c836",
   "outputs": [],
   "execution_count": 2
  },
  {
   "metadata": {
    "ExecuteTime": {
     "end_time": "2024-06-03T16:35:57.475996Z",
     "start_time": "2024-06-03T16:35:57.370959Z"
    }
   },
   "cell_type": "code",
   "source": "len(corpus.get_files())",
   "id": "ac6a6a3802d6f911",
   "execution_count": 3,
   "outputs": [
    {
     "data": {
      "text/plain": [
       "1262"
      ]
     },
     "execution_count": 3,
     "metadata": {},
     "output_type": "execute_result"
    }
   ]
  },
  {
   "metadata": {
    "ExecuteTime": {
     "end_time": "2024-06-03T16:40:52.078760Z",
     "start_time": "2024-06-03T16:35:57.475996Z"
    }
   },
   "cell_type": "code",
   "source": "corpus.convert_files_to_tei(char_threshold=0.4)",
   "id": "709af6e9b800d0f5",
   "outputs": [
    {
     "name": "stderr",
     "output_type": "stream",
     "text": [
      "Converting disk images to TEI:  10%|█         | 131/1262 [00:33<03:48,  4.96disk_images/s]"
     ]
    },
    {
     "name": "stdout",
     "output_type": "stream",
     "text": [
      "All strings must be XML compatible: Unicode or ASCII, no NULL bytes or control characters data\\disk_images_thesis\\Digital News\\Digital News No.1\\digital_news_no_1.xml\n"
     ]
    },
    {
     "name": "stderr",
     "output_type": "stream",
     "text": [
      "Converting disk images to TEI:  18%|█▊        | 228/1262 [00:52<02:08,  8.04disk_images/s]"
     ]
    },
    {
     "name": "stdout",
     "output_type": "stream",
     "text": [
      "All strings must be XML compatible: Unicode or ASCII, no NULL bytes or control characters data\\disk_images_thesis\\Digital Talk\\Digital Talk No.55\\digital_talk_no_55_1.xml\n"
     ]
    },
    {
     "name": "stderr",
     "output_type": "stream",
     "text": [
      "Converting disk images to TEI:  53%|█████▎    | 665/1262 [03:17<03:03,  3.25disk_images/s]"
     ]
    },
    {
     "name": "stdout",
     "output_type": "stream",
     "text": [
      "All strings must be XML compatible: Unicode or ASCII, no NULL bytes or control characters data\\disk_images_thesis\\Publication\\Publication No.24\\publication_no_24.xml\n"
     ]
    },
    {
     "name": "stderr",
     "output_type": "stream",
     "text": [
      "Converting disk images to TEI:  54%|█████▎    | 678/1262 [03:20<01:09,  8.43disk_images/s]"
     ]
    },
    {
     "name": "stdout",
     "output_type": "stream",
     "text": [
      "All strings must be XML compatible: Unicode or ASCII, no NULL bytes or control characters data\\disk_images_thesis\\Publication\\Publication No.35\\publication_no_35.xml\n"
     ]
    },
    {
     "name": "stderr",
     "output_type": "stream",
     "text": [
      "Converting disk images to TEI: 100%|██████████| 1262/1262 [04:54<00:00,  4.28disk_images/s]\n"
     ]
    }
   ],
   "execution_count": 4
  },
  {
   "metadata": {
    "ExecuteTime": {
     "end_time": "2024-06-03T16:40:52.173582Z",
     "start_time": "2024-06-03T16:40:52.078760Z"
    }
   },
   "cell_type": "code",
   "source": "len(glob.glob(os.path.join('data/disk_images_thesis', '**', '*.xml'), recursive=True))",
   "id": "180182c4768561ae",
   "outputs": [
    {
     "data": {
      "text/plain": [
       "1245"
      ]
     },
     "execution_count": 5,
     "metadata": {},
     "output_type": "execute_result"
    }
   ],
   "execution_count": 5
  },
  {
   "metadata": {
    "ExecuteTime": {
     "end_time": "2024-06-03T16:40:52.189310Z",
     "start_time": "2024-06-03T16:40:52.173582Z"
    }
   },
   "cell_type": "code",
   "source": "#glob.glob(os.path.join('data/disk_images_thesis', '**', '*.xml'), recursive=True)",
   "id": "293a1371c16738e6",
   "outputs": [],
   "execution_count": 6
  },
  {
   "metadata": {
    "ExecuteTime": {
     "end_time": "2024-06-03T16:40:52.204952Z",
     "start_time": "2024-06-03T16:40:52.189310Z"
    }
   },
   "cell_type": "code",
   "source": "",
   "id": "fc6a1b43e709d515",
   "outputs": [],
   "execution_count": 6
  }
 ],
 "metadata": {
  "kernelspec": {
   "display_name": "Python 3",
   "language": "python",
   "name": "python3"
  },
  "language_info": {
   "codemirror_mode": {
    "name": "ipython",
    "version": 2
   },
   "file_extension": ".py",
   "mimetype": "text/x-python",
   "name": "python",
   "nbconvert_exporter": "python",
   "pygments_lexer": "ipython2",
   "version": "2.7.6"
  }
 },
 "nbformat": 4,
 "nbformat_minor": 5
}
