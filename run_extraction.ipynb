{
 "cells": [
  {
   "metadata": {
    "ExecuteTime": {
     "end_time": "2024-05-14T15:05:21.859653Z",
     "start_time": "2024-05-14T15:05:20.745662Z"
    }
   },
   "cell_type": "code",
   "source": [
    "import os\n",
    "import glob\n",
    "from c64_diskmag_converter import Corpus, DiskmagC64"
   ],
   "id": "5785a9884335e537",
   "outputs": [],
   "execution_count": 1
  },
  {
   "metadata": {
    "ExecuteTime": {
     "end_time": "2024-05-14T15:06:06.036453Z",
     "start_time": "2024-05-14T15:06:05.977871Z"
    }
   },
   "cell_type": "code",
   "source": "corpus = Corpus('deutschsprachige Diskettenmagazine', 'data/disk_images_thesis')",
   "id": "649fba72155c836",
   "outputs": [],
   "execution_count": 2
  },
  {
   "metadata": {
    "ExecuteTime": {
     "end_time": "2024-05-14T15:06:07.639841Z",
     "start_time": "2024-05-14T15:06:07.576742Z"
    }
   },
   "cell_type": "code",
   "source": "len(corpus.get_files())",
   "id": "ac6a6a3802d6f911",
   "outputs": [
    {
     "data": {
      "text/plain": [
       "1262"
      ]
     },
     "execution_count": 3,
     "metadata": {},
     "output_type": "execute_result"
    }
   ],
   "execution_count": 3
  },
  {
   "metadata": {
    "ExecuteTime": {
     "end_time": "2024-05-14T15:06:15.313916Z",
     "start_time": "2024-05-14T15:06:15.080552Z"
    }
   },
   "cell_type": "code",
   "source": "corpus.rename_files()",
   "id": "11f297a78238e0ab",
   "outputs": [],
   "execution_count": 4
  },
  {
   "metadata": {
    "ExecuteTime": {
     "end_time": "2024-05-14T15:09:19.416015Z",
     "start_time": "2024-05-14T15:06:35.287119Z"
    }
   },
   "cell_type": "code",
   "source": "corpus.convert_files_to_tei(char_threshold=0.4)",
   "id": "709af6e9b800d0f5",
   "outputs": [
    {
     "name": "stderr",
     "output_type": "stream",
     "text": [
      "Converting disk images to TEI: 100%|██████████| 1262/1262 [02:44<00:00,  7.69disk_images/s]\n"
     ]
    }
   ],
   "execution_count": 5
  },
  {
   "metadata": {},
   "cell_type": "code",
   "source": "len(glob.glob(os.path.join('data/disk_images_thesis_zipped', '**', '*.xml'), recursive=True))",
   "id": "180182c4768561ae",
   "outputs": [],
   "execution_count": null
  },
  {
   "metadata": {},
   "cell_type": "code",
   "source": "",
   "id": "293a1371c16738e6",
   "outputs": [],
   "execution_count": null
  }
 ],
 "metadata": {
  "kernelspec": {
   "display_name": "Python 3",
   "language": "python",
   "name": "python3"
  },
  "language_info": {
   "codemirror_mode": {
    "name": "ipython",
    "version": 2
   },
   "file_extension": ".py",
   "mimetype": "text/x-python",
   "name": "python",
   "nbconvert_exporter": "python",
   "pygments_lexer": "ipython2",
   "version": "2.7.6"
  }
 },
 "nbformat": 4,
 "nbformat_minor": 5
}
