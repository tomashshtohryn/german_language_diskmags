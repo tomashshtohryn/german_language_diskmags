{
 "cells": [
  {
   "metadata": {
    "ExecuteTime": {
     "end_time": "2024-06-12T15:00:14.739272Z",
     "start_time": "2024-06-12T15:00:13.940823Z"
    }
   },
   "cell_type": "code",
   "source": [
    "import os\n",
    "import glob\n",
    "from c64_diskmag_converter import Corpus, DiskmagC64"
   ],
   "id": "5785a9884335e537",
   "outputs": [],
   "execution_count": 1
  },
  {
   "metadata": {
    "ExecuteTime": {
     "end_time": "2024-06-12T15:00:14.754930Z",
     "start_time": "2024-06-12T15:00:14.739272Z"
    }
   },
   "cell_type": "code",
   "source": "mag = DiskmagC64(\"data/disk_images_thesis/B Soft/B Soft No.6/b_soft_no_6_1.d64\")",
   "id": "9f4e4d382ff6d409",
   "outputs": [],
   "execution_count": 2
  },
  {
   "metadata": {
    "ExecuteTime": {
     "end_time": "2024-06-12T15:00:15.075453Z",
     "start_time": "2024-06-12T15:00:14.754930Z"
    }
   },
   "cell_type": "code",
   "source": "mag.convert_to_tei(char_threshold=0.4)",
   "id": "e6345ca5ff23e079",
   "outputs": [],
   "execution_count": 3
  },
  {
   "metadata": {
    "ExecuteTime": {
     "end_time": "2024-06-12T15:00:15.123240Z",
     "start_time": "2024-06-12T15:00:15.075453Z"
    }
   },
   "cell_type": "code",
   "source": "corpus = Corpus('deutschsprachige Diskettenmagazine', 'data/disk_images_thesis')",
   "id": "649fba72155c836",
   "outputs": [],
   "execution_count": 4
  },
  {
   "metadata": {
    "ExecuteTime": {
     "end_time": "2024-06-12T15:00:15.175Z",
     "start_time": "2024-06-12T15:00:15.123240Z"
    }
   },
   "cell_type": "code",
   "source": "len(corpus.get_files())",
   "id": "ac6a6a3802d6f911",
   "outputs": [
    {
     "data": {
      "text/plain": [
       "1262"
      ]
     },
     "execution_count": 5,
     "metadata": {},
     "output_type": "execute_result"
    }
   ],
   "execution_count": 5
  },
  {
   "metadata": {
    "ExecuteTime": {
     "end_time": "2024-06-12T15:04:11.659068Z",
     "start_time": "2024-06-12T15:00:15.175948Z"
    }
   },
   "cell_type": "code",
   "source": "corpus.convert_files_to_tei(char_threshold=0.4)",
   "id": "709af6e9b800d0f5",
   "outputs": [
    {
     "name": "stderr",
     "output_type": "stream",
     "text": [
      "Converting disk images to TEI:  11%|█         | 133/1262 [00:21<02:38,  7.14disk_images/s]"
     ]
    },
    {
     "name": "stdout",
     "output_type": "stream",
     "text": [
      "All strings must be XML compatible: Unicode or ASCII, no NULL bytes or control characters data\\disk_images_thesis\\Digital News\\Digital News No.1\\digital_news_no_1.xml\n"
     ]
    },
    {
     "name": "stderr",
     "output_type": "stream",
     "text": [
      "Converting disk images to TEI:  18%|█▊        | 228/1262 [00:37<02:18,  7.46disk_images/s]"
     ]
    },
    {
     "name": "stdout",
     "output_type": "stream",
     "text": [
      "All strings must be XML compatible: Unicode or ASCII, no NULL bytes or control characters data\\disk_images_thesis\\Digital Talk\\Digital Talk No.55\\digital_talk_no_55_1.xml\n"
     ]
    },
    {
     "name": "stderr",
     "output_type": "stream",
     "text": [
      "Converting disk images to TEI:  53%|█████▎    | 665/1262 [02:41<02:33,  3.90disk_images/s]"
     ]
    },
    {
     "name": "stdout",
     "output_type": "stream",
     "text": [
      "All strings must be XML compatible: Unicode or ASCII, no NULL bytes or control characters data\\disk_images_thesis\\Publication\\Publication No.24\\publication_no_24.xml\n"
     ]
    },
    {
     "name": "stderr",
     "output_type": "stream",
     "text": [
      "Converting disk images to TEI:  54%|█████▍    | 680/1262 [02:45<01:00,  9.67disk_images/s]"
     ]
    },
    {
     "name": "stdout",
     "output_type": "stream",
     "text": [
      "All strings must be XML compatible: Unicode or ASCII, no NULL bytes or control characters data\\disk_images_thesis\\Publication\\Publication No.35\\publication_no_35.xml\n"
     ]
    },
    {
     "name": "stderr",
     "output_type": "stream",
     "text": [
      "Converting disk images to TEI: 100%|██████████| 1262/1262 [03:56<00:00,  5.34disk_images/s]\n"
     ]
    }
   ],
   "execution_count": 6
  },
  {
   "metadata": {
    "ExecuteTime": {
     "end_time": "2024-06-12T15:04:11.721199Z",
     "start_time": "2024-06-12T15:04:11.660405Z"
    }
   },
   "cell_type": "code",
   "source": "len(glob.glob(os.path.join('data/disk_images_thesis', '**', '*.xml'), recursive=True))",
   "id": "180182c4768561ae",
   "outputs": [
    {
     "data": {
      "text/plain": [
       "1245"
      ]
     },
     "execution_count": 7,
     "metadata": {},
     "output_type": "execute_result"
    }
   ],
   "execution_count": 7
  },
  {
   "metadata": {
    "ExecuteTime": {
     "end_time": "2024-06-12T15:04:11.737055Z",
     "start_time": "2024-06-12T15:04:11.723204Z"
    }
   },
   "cell_type": "code",
   "source": "#glob.glob(os.path.join('data/disk_images_thesis', '**', '*.xml'), recursive=True)",
   "id": "293a1371c16738e6",
   "outputs": [],
   "execution_count": 8
  },
  {
   "metadata": {
    "ExecuteTime": {
     "end_time": "2024-06-12T15:04:11.752547Z",
     "start_time": "2024-06-12T15:04:11.738393Z"
    }
   },
   "cell_type": "code",
   "source": "",
   "id": "fc6a1b43e709d515",
   "outputs": [],
   "execution_count": 8
  }
 ],
 "metadata": {
  "kernelspec": {
   "display_name": "Python 3",
   "language": "python",
   "name": "python3"
  },
  "language_info": {
   "codemirror_mode": {
    "name": "ipython",
    "version": 2
   },
   "file_extension": ".py",
   "mimetype": "text/x-python",
   "name": "python",
   "nbconvert_exporter": "python",
   "pygments_lexer": "ipython2",
   "version": "2.7.6"
  }
 },
 "nbformat": 4,
 "nbformat_minor": 5
}
