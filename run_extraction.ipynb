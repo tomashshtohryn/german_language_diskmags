{
 "cells": [
  {
   "metadata": {
    "ExecuteTime": {
     "end_time": "2024-06-13T20:14:57.348233Z",
     "start_time": "2024-06-13T20:14:56.329742Z"
    }
   },
   "cell_type": "code",
   "source": [
    "import os\n",
    "import glob\n",
    "from c64_diskmag_converter import Corpus, DiskmagC64"
   ],
   "id": "5785a9884335e537",
   "outputs": [],
   "execution_count": 1
  },
  {
   "metadata": {
    "ExecuteTime": {
     "end_time": "2024-06-13T20:14:58.147376Z",
     "start_time": "2024-06-13T20:14:58.132475Z"
    }
   },
   "cell_type": "code",
   "source": "mag = DiskmagC64(\"data/disk_images_thesis/Dynamic News/Dynamic News No.1/dynamic_news_no_1.d64\")",
   "id": "8e0b02f16015b257",
   "outputs": [],
   "execution_count": 2
  },
  {
   "metadata": {
    "ExecuteTime": {
     "end_time": "2024-06-13T20:14:59.022103Z",
     "start_time": "2024-06-13T20:14:58.995027Z"
    }
   },
   "cell_type": "code",
   "source": "mag.convert_to_tei(char_threshold=0.4)",
   "id": "f2c148215d51a39",
   "outputs": [],
   "execution_count": 3
  },
  {
   "metadata": {
    "ExecuteTime": {
     "end_time": "2024-06-13T17:17:27.228830Z",
     "start_time": "2024-06-13T17:17:27.133070Z"
    }
   },
   "cell_type": "code",
   "source": "corpus = Corpus('deutschsprachige Diskettenmagazine', 'data/disk_images_thesis')",
   "id": "649fba72155c836",
   "outputs": [],
   "execution_count": 2
  },
  {
   "metadata": {
    "ExecuteTime": {
     "end_time": "2024-06-13T17:17:27.345350Z",
     "start_time": "2024-06-13T17:17:27.229667Z"
    }
   },
   "cell_type": "code",
   "source": "len(corpus.get_files())",
   "id": "ac6a6a3802d6f911",
   "outputs": [
    {
     "data": {
      "text/plain": [
       "1262"
      ]
     },
     "execution_count": 3,
     "metadata": {},
     "output_type": "execute_result"
    }
   ],
   "execution_count": 3
  },
  {
   "metadata": {
    "ExecuteTime": {
     "end_time": "2024-06-13T17:21:40.675260Z",
     "start_time": "2024-06-13T17:17:27.349364Z"
    }
   },
   "cell_type": "code",
   "source": "corpus.convert_files_to_tei(char_threshold=0.4)",
   "id": "709af6e9b800d0f5",
   "outputs": [
    {
     "name": "stderr",
     "output_type": "stream",
     "text": [
      "Converting disk images to TEI:  10%|█         | 131/1262 [00:32<04:35,  4.11disk_images/s]"
     ]
    },
    {
     "name": "stdout",
     "output_type": "stream",
     "text": [
      "All strings must be XML compatible: Unicode or ASCII, no NULL bytes or control characters data\\disk_images_thesis\\Digital News\\Digital News No.1\\digital_news_no_1.xml\n"
     ]
    },
    {
     "name": "stderr",
     "output_type": "stream",
     "text": [
      "Converting disk images to TEI:  18%|█▊        | 229/1262 [00:50<02:12,  7.81disk_images/s]"
     ]
    },
    {
     "name": "stdout",
     "output_type": "stream",
     "text": [
      "All strings must be XML compatible: Unicode or ASCII, no NULL bytes or control characters data\\disk_images_thesis\\Digital Talk\\Digital Talk No.55\\digital_talk_no_55_1.xml\n"
     ]
    },
    {
     "name": "stderr",
     "output_type": "stream",
     "text": [
      "Converting disk images to TEI:  53%|█████▎    | 665/1262 [02:45<02:04,  4.81disk_images/s]"
     ]
    },
    {
     "name": "stdout",
     "output_type": "stream",
     "text": [
      "All strings must be XML compatible: Unicode or ASCII, no NULL bytes or control characters data\\disk_images_thesis\\Publication\\Publication No.24\\publication_no_24.xml\n"
     ]
    },
    {
     "name": "stderr",
     "output_type": "stream",
     "text": [
      "Converting disk images to TEI:  54%|█████▍    | 679/1262 [02:47<01:01,  9.44disk_images/s]"
     ]
    },
    {
     "name": "stdout",
     "output_type": "stream",
     "text": [
      "All strings must be XML compatible: Unicode or ASCII, no NULL bytes or control characters data\\disk_images_thesis\\Publication\\Publication No.35\\publication_no_35.xml\n"
     ]
    },
    {
     "name": "stderr",
     "output_type": "stream",
     "text": [
      "Converting disk images to TEI: 100%|██████████| 1262/1262 [04:13<00:00,  4.98disk_images/s]\n"
     ]
    }
   ],
   "execution_count": 4
  },
  {
   "metadata": {
    "ExecuteTime": {
     "end_time": "2024-06-13T17:21:40.758741Z",
     "start_time": "2024-06-13T17:21:40.676436Z"
    }
   },
   "cell_type": "code",
   "source": "len(glob.glob(os.path.join('data/disk_images_thesis', '**', '*.xml'), recursive=True))",
   "id": "180182c4768561ae",
   "outputs": [
    {
     "data": {
      "text/plain": [
       "1245"
      ]
     },
     "execution_count": 5,
     "metadata": {},
     "output_type": "execute_result"
    }
   ],
   "execution_count": 5
  }
 ],
 "metadata": {
  "kernelspec": {
   "display_name": "Python 3",
   "language": "python",
   "name": "python3"
  },
  "language_info": {
   "codemirror_mode": {
    "name": "ipython",
    "version": 2
   },
   "file_extension": ".py",
   "mimetype": "text/x-python",
   "name": "python",
   "nbconvert_exporter": "python",
   "pygments_lexer": "ipython2",
   "version": "2.7.6"
  }
 },
 "nbformat": 4,
 "nbformat_minor": 5
}
